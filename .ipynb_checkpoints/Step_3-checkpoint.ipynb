{
 "cells": [
  {
   "cell_type": "markdown",
   "id": "d4c6a760",
   "metadata": {},
   "source": [
    "## importing"
   ]
  },
  {
   "cell_type": "code",
   "execution_count": 1,
   "id": "ea930922",
   "metadata": {},
   "outputs": [
    {
     "name": "stdout",
     "output_type": "stream",
     "text": [
      "Requirement already satisfied: random2 in c:\\users\\sayan\\anaconda3\\lib\\site-packages (1.0.1)\n"
     ]
    }
   ],
   "source": [
    "!pip install random2"
   ]
  },
  {
   "cell_type": "code",
   "execution_count": 2,
   "id": "f8fbb21e",
   "metadata": {},
   "outputs": [],
   "source": [
    "import random as rd"
   ]
  },
  {
   "cell_type": "markdown",
   "id": "a84a31cb",
   "metadata": {},
   "source": [
    "## initillazing chances"
   ]
  },
  {
   "cell_type": "code",
   "execution_count": 16,
   "id": "c6863cfd",
   "metadata": {},
   "outputs": [
    {
     "name": "stdout",
     "output_type": "stream",
     "text": [
      "4\n"
     ]
    }
   ],
   "source": [
    "chance=3\n",
    "count_chance=1\n",
    "comp_num=rd.randint(1,10)\n",
    "print(comp_num)"
   ]
  },
  {
   "cell_type": "code",
   "execution_count": 17,
   "id": "b8369c0d",
   "metadata": {},
   "outputs": [
    {
     "name": "stdout",
     "output_type": "stream",
     "text": [
      "Choose a number: 1\n",
      "you choose a lower number\n",
      "Choose a number: 4\n",
      "you win with 2 steps.\n"
     ]
    }
   ],
   "source": [
    "while (count_chance<=chance):\n",
    "    your_num=int(input(\"Choose a number: \"))\n",
    "    if(your_num!=comp_num):\n",
    "        count_chance+=1\n",
    "        if(your_num>comp_num): print(\"you choose a higher number\")\n",
    "        else: print(\"you choose a lower number\")\n",
    "    else:\n",
    "        print(f'you win with {count_chance} steps.')\n",
    "        break\n",
    "if(count_chance>chance):\n",
    "    print('\\n\\n\\nYou lose the match.')"
   ]
  },
  {
   "cell_type": "code",
   "execution_count": null,
   "id": "f7eea524",
   "metadata": {},
   "outputs": [],
   "source": []
  }
 ],
 "metadata": {
  "kernelspec": {
   "display_name": "num_guess",
   "language": "python",
   "name": "num_guess"
  },
  "language_info": {
   "codemirror_mode": {
    "name": "ipython",
    "version": 3
   },
   "file_extension": ".py",
   "mimetype": "text/x-python",
   "name": "python",
   "nbconvert_exporter": "python",
   "pygments_lexer": "ipython3",
   "version": "3.9.16"
  }
 },
 "nbformat": 4,
 "nbformat_minor": 5
}
