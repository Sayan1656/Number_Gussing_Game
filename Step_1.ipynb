{
 "cells": [
  {
   "cell_type": "markdown",
   "id": "d4c6a760",
   "metadata": {},
   "source": [
    "## importing"
   ]
  },
  {
   "cell_type": "code",
   "execution_count": 3,
   "id": "ea930922",
   "metadata": {},
   "outputs": [
    {
     "name": "stdout",
     "output_type": "stream",
     "text": [
      "Requirement already satisfied: random2 in c:\\users\\sayan\\anaconda3\\lib\\site-packages (1.0.1)\n"
     ]
    }
   ],
   "source": [
    "!pip install random2"
   ]
  },
  {
   "cell_type": "code",
   "execution_count": 4,
   "id": "f8fbb21e",
   "metadata": {},
   "outputs": [],
   "source": [
    "import random as rd"
   ]
  },
  {
   "cell_type": "code",
   "execution_count": 9,
   "id": "508fa625",
   "metadata": {},
   "outputs": [
    {
     "name": "stdout",
     "output_type": "stream",
     "text": [
      "Choose a number: 3\n",
      "you lose, the number is 8\n"
     ]
    }
   ],
   "source": [
    "comp_num=rd.randint(1,10)\n",
    "your_num=int(input(\"Choose a number: \"))\n",
    "if(your_num==comp_num):\n",
    "    print(\"you win\")\n",
    "else: print(f'you lose, the number is {comp_num}')"
   ]
  },
  {
   "cell_type": "code",
   "execution_count": null,
   "id": "f7eea524",
   "metadata": {},
   "outputs": [],
   "source": []
  }
 ],
 "metadata": {
  "kernelspec": {
   "display_name": "num_guess",
   "language": "python",
   "name": "num_guess"
  },
  "language_info": {
   "codemirror_mode": {
    "name": "ipython",
    "version": 3
   },
   "file_extension": ".py",
   "mimetype": "text/x-python",
   "name": "python",
   "nbconvert_exporter": "python",
   "pygments_lexer": "ipython3",
   "version": "3.9.16"
  }
 },
 "nbformat": 4,
 "nbformat_minor": 5
}
